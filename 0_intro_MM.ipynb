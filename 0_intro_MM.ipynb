{
 "cells": [
  {
   "cell_type": "markdown",
   "metadata": {},
   "source": [
    "# Introduction to Molecular Mechanics/Molecular Dynamics\n",
    "\n",
    "## What does \"molecular mechanics\" mean?\n",
    "\n",
    "Computational chemistry is a field which uses calculations performed on computers to predict real world properties of molecules. \n",
    "Because we can't have \"real\" molecules in a computer, we have to approximate their behavior using mathematical models in simulations. \n",
    "Within the field of computational chemistry, the types of simulation are grouped into two broad categories based on the type of physics the models are based on. Quantum chemistry simulations are based on quantum mechanics (Schrodinger's equation if you have taken quantum chemistry). \n",
    "The other broad category of computational chemistry is based on **molecular mechanics**, or classical(Newtonian) physics. \n",
    "This is essentially the same kind of physics you learn in introductory physics course where you might predict the path of a ball thrown through the air. \n",
    "\n",
    "Quantum mechanics calculations provide a more detailed and accurate representation of molecular systems compared to molecular mechanics. \n",
    "However, they are also more computationally expensive, limiting their applicability to larger systems or longer simulation times. \n",
    "Molecular mechanics methods are most often used to study the time dependent properties of molecules. \n",
    "The figure below illustrates this trade off between accuracy and cost. The lower left corner shows simulations which use classical physics. \n",
    "They are less computationally \"expensive\", but also less detailed. The upper right represents quantum mechanics methods - they are very accurate, but also very expensive. This workshop focuses on molecular mechanics simulations.\n",
    "<div style=\"text-align: center;\">\n",
    "  <img src=\"images/simulation-scale.png\" height=\"500\">\n",
    "</div>\n",
    "\n",
    "\n",
    "## The \"force field\"\n",
    "\n",
    "As stated above, all computational simulations depend on a mathematical model to describe the molecule. \n",
    "In molecular mechanics, the full expression of this model is often called a **force field**  and is a function which describes the potential energy of a system. \n",
    "This force field describes the energy associated with molecular movements such as bond stretching, angle bending, or dihedral angle rotation. \n",
    "If you are a chemistry student, you have likely discussed many of these molecular motions in your classes (who can forget talking about conformations of butane in organic chemistry class?). \n",
    "The force field describes the energies associated with these movements mathematically. The potential energy is commonly represented by the letter $U$, and the total potential energy or \"force field\" is the sum of terms related to bond stretching, angle bending, torsional rotation (that cis-trans isomerism), electrostatic interaction, and nonbonded Van der Waals interactions.\n",
    "\n",
    "$$ U = U_{bond} + U_{angle} + U_{torsion} + U_{elec} + U_{vdw} $$\n",
    "\n",
    "Below we show commonly used forms from these terms. You will recognize many of these from other classes you have taken:\n",
    "\n",
    "### Bonds and Angles:\n",
    "$$ U_{bond} = \\frac{1}{2}k_{l}(l-l_{eq})^2 $$\n",
    "\n",
    "$$ U_{angle} = \\frac{1}{2}k_{\\theta}(\\theta - \\theta_{eq})^2 $$\n",
    "\n",
    "Note that both bonds and angles are commonly described using a harmonic potential (also used to describe spring-mass systems.) \n",
    "This should look familiar to your last homework assignment!\n",
    "The variable $l$ represents the distance between two bonded atoms. The parameters $k_{l}$ and $l_{eq}$ represent the bond stiffness and equilibrium bond length respectively. \n",
    "For example, two double bonded carbons will have a shorter bond length ($l_{eq}$) and stiffer bond (stiffer spring, or higher $k_{l}$) than single bonded carbons.\n",
    "\n",
    "### Torsional (Dihedral) Interactions:\n",
    "\n",
    "$$ U_{torsion} = \\sum_{n=1}^{n_{max}}{U_{n}[1+cos(n\\phi-\\gamma_{n})]} $$\n",
    "\n",
    "The torsion energy, represented by $U_{torsion}$, describes the energy changes associated with the rotation around a particular bond, often visualized between four bonded atoms in sequence.\n",
    "This term is especially significant in cases like rotatable single bonds where molecules can adopt different conformations based on the dihedral angles.\n",
    "The variable $\\phi$ represents the torsional (or dihedral) angle, which is the angle between two intersecting planes formed by three atoms each.\n",
    "The parameters $U_{n}$ and $\\gamma_{n}$ provide amplitude and phase shift respectively.\n",
    "This trigonometric expression captures the periodic nature of torsional potentials, indicating that after completing a full rotation (360°), the molecule returns to its original state.\n",
    "\n",
    "### Electrostatic Interactions:\n",
    "\n",
    "$$ U_{elec} = k_{e}\\frac{q_{i}q_{j}}{r_{ij}} $$\n",
    "\n",
    "The term $U_{elec}$ encapsulates the interactions between charged species within a molecular system.\n",
    "As the name suggests, it's based on the fundamental principles of electrostatics: opposite charges attract, while like charges repel.\n",
    "The variables $q_{i}$ and $q_{j}$ represent the charges on atoms i and j, respectively, and $r_{ij}$ is the distance between them.\n",
    "The constant $k_{e}$ is a proportionality factor that relates to the physical constants of the system.\n",
    "In essence, this term is a manifestation of Coulomb's Law at the molecular level, accounting for the forces exerted between charged entities in the molecule.\n",
    "\n",
    "### Van der Waals Interactions:\n",
    "\n",
    "$$ U_{vdw} = 4\\epsilon_{ij}[(\\frac{\\sigma_{ij}}{r_{ij}})^{12} - (\\frac{\\sigma_{ij}}{r_{ij}})^{6}] $$\n",
    "\n",
    "These are non-covalent interactions that occur between all atoms and molecules, irrespective of their charge.\n",
    "$U_{vdw}$ quantifies these weak forces that primarily consist of attractions and repulsions due to transient fluctuations in electron density around atoms.\n",
    "The equation is formulated using the Lennard-Jones potential, which models the balance between attraction at longer distances (represented by the $(\\frac{\\alpha_{ij}}{r_{ij}})^{6}$ term) and repulsion at shorter distances (captured by the $(\\frac{\\alpha_{ij}}{r_{ij}})^{12}$ term).\n",
    "Here, $\\epsilon_{ij}$ provides the depth of the potential well, indicating the strength of the attraction, and $\\alpha_{ij}$ represents the finite distance at which the inter-particle potential is zero.\n",
    "As two atoms approach each other, they first attract weakly, then strongly, but once they get too close, they experience a strong repulsive force due to overlapping electron clouds.\n"
   ]
  },
  {
   "cell_type": "markdown",
   "metadata": {},
   "source": [
    "## Exploring Potential Energy Equations\n",
    "\n",
    "We have already seen the equations for Van der Waals interactions in Chem 280 - this is the Lennard Jones equation that we used for our Monte Carlo simulation.\n",
    "We have also already seen the harmonic bond potential - this was the equation we used to model a diatomic molecule in our first homework!\n",
    "\n",
    "In this section, we will examine parameters that can be used with the force field equations above to describe carbon-carbon and carbon-hydrogen bonds.\n",
    "\n",
    "| Interaction       | Parameters                                                                            |\n",
    "|-------------------|---------------------------------------------------------------------------------------|\n",
    "|C-C bond           | $l_{eq} = 0.1538 nm$, $k_{l} = 1.946 x 10^5 kJ/mol \\cdot nm^2$                    |\n",
    "|C-H bond           | $l_{eq} = 0.1097 nm$, $k_{l} = 3.146 x 10^6 kJ/mol \\cdot nm^2$                    |\n",
    "|H-C-H angle        | $\\theta_{eq} = 1.878$ $rad$, $k_{\\theta} = 326.0 kJ/mol \\cdot rad^2$            |\n",
    "|H-C-C angle        | $\\theta_{eq} = 1.916$ $rad$, $k_{\\theta} = 391.8 kJ/mol \\cdot rad^2$            |\n",
    "|H-C-C-H torsion    | $\\gamma_{3} = 0$ $rad$, $U_{3} = 0.5021 kJ/mol$                                 |\n",
    "|C atom (nonbonded) | $q_{C} = -0.0951e$, $\\alpha_{C} = 0.3398 nm$, $\\epsilon_{C} = 0.4510 kJ/mol$|\n",
    "|H atom (nonbonded) | $q_{H} = 0.0317e$, $\\alpha_{H} = 0.2600$ nm$, $\\epsilon_{H} = 0.0870 kJ/mol$ |\n",
    "|C-C-C angle        | $\\theta_{eq} = 1.946$ $rad$, $k_{\\theta} = 543.0 kJ/mol \\cdot rad^2$            |\n",
    "|C-C-C-C torsion    | $\\gamma_{1} = 0$ $rad$, $U_{1} = 0.4602 kJ/mol$, $\\gamma_{2} = 3.146$ $rad$, $U_{2} = 1.2134 kJ/mol$, $\\gamma_{3} = 0$ $rad$, $U_{3} = 0.5439 kJ/mol$    |\n",
    "\n",
    "### Harmonic Bond Potential\n",
    "\n",
    "The harmonic bond potential is plotted for you."
   ]
  },
  {
   "cell_type": "code",
   "execution_count": null,
   "metadata": {},
   "outputs": [],
   "source": [
    "import numpy as np\n",
    "import matplotlib.pyplot as plt\n",
    "\n",
    "k = 1.946E5\n",
    "l_eq = 0.1538\n",
    "\n",
    "# our equilibrium bond lenght is 0.1538 nm, so we will \n",
    "# generate distances around this length.\n",
    "distances = np.arange(0.1, 0.21, 0.001)\n",
    "\n",
    "# can use broadcasting/element-wise operation feature\n",
    "# of numpy arrays to avoid loops.\n",
    "# use bond potential ( 0.5 * k * (bond_length - equilibrium_length) ** 2) here.\n",
    "bond_energies = 0.5 * k * (distances - l_eq)**2\n",
    "\n",
    "# Create a nice plot\n",
    "fig = plt.figure()\n",
    "ax = fig.add_subplot(111)\n",
    "\n",
    "ax.plot(distances, bond_energies, label=\"Harmonic Bond Potential\", color=\"#2565E8\")\n",
    "ax.set_ylabel(r'Energy (kJ/mol)', fontsize=16)\n",
    "ax.set_xlabel(r'Distance (nm)', fontsize=16)\n",
    "ax.tick_params(axis=\"both\", which=\"major\", labelsize=12)\n",
    "ax.legend(fontsize=12)\n",
    "\n",
    "plt.savefig('bond_potential.png', dpi=300)\n"
   ]
  },
  {
   "cell_type": "markdown",
   "metadata": {},
   "source": [
    "## Exercise \n",
    "\n",
    "Create a plot for the C-C-C harmonic angle potential. Consider angles from 0 to 2 $\\pi$. Save your plot as `angle_potential.png`."
   ]
  },
  {
   "cell_type": "code",
   "execution_count": null,
   "metadata": {},
   "outputs": [],
   "source": [
    "## Your solution here!"
   ]
  },
  {
   "cell_type": "markdown",
   "metadata": {},
   "source": [
    "## Exercise\n",
    "\n",
    "Create a plot for the C-C-C-C torsion potential. Plot the potential on the range 0 to 2 $\\pi$. Save your plot as `dihedral_potential.png`.\n",
    "\n",
    "$$ U_{torsion} = \\sum_{n=1}^{n_{max}}{U_{n}[1+cos(n\\phi-\\gamma_{n})]} $$\n",
    "\n",
    "$\\gamma_{1} = 0$ $rad$, $U_{1} = 0.4602 kJ/mol$, $\\gamma_{2} = 3.146$ $rad$, $U_{2} = 1.2134 kJ/mol$, $\\gamma_{3} = 0$ $rad$, $U_{3} = 0.5439 kJ/mol$  "
   ]
  },
  {
   "cell_type": "code",
   "execution_count": null,
   "metadata": {},
   "outputs": [],
   "source": []
  },
  {
   "cell_type": "code",
   "execution_count": null,
   "metadata": {},
   "outputs": [],
   "source": []
  },
  {
   "cell_type": "code",
   "execution_count": null,
   "metadata": {},
   "outputs": [],
   "source": []
  }
 ],
 "metadata": {
  "kernelspec": {
   "display_name": "chem274A_lab2",
   "language": "python",
   "name": "python3"
  },
  "language_info": {
   "codemirror_mode": {
    "name": "ipython",
    "version": 3
   },
   "file_extension": ".py",
   "mimetype": "text/x-python",
   "name": "python",
   "nbconvert_exporter": "python",
   "pygments_lexer": "ipython3",
   "version": "3.11.5"
  },
  "orig_nbformat": 4
 },
 "nbformat": 4,
 "nbformat_minor": 2
}
